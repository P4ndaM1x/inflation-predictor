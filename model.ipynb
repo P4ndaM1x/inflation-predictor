{
 "cells": [
  {
   "cell_type": "code",
   "execution_count": 36,
   "metadata": {
    "ExecuteTime": {
     "end_time": "2023-06-29T12:33:42.538010200Z",
     "start_time": "2023-06-29T12:33:42.488963700Z"
    },
    "collapsed": true
   },
   "outputs": [],
   "source": [
    "from sklearn.metrics import mean_squared_error, r2_score\n",
    "from sklearn.model_selection import GridSearchCV, train_test_split\n",
    "import numpy as np\n",
    "import pandas as pd\n",
    "from sklearn.neural_network import MLPRegressor\n",
    "import matplotlib.pyplot as plt\n",
    "from data_normalizer import unscale_data_with_minmax\n",
    "from sklearn.metrics import make_scorer\n",
    "import joblib"
   ]
  },
  {
   "cell_type": "code",
   "execution_count": 67,
   "metadata": {
    "ExecuteTime": {
     "end_time": "2023-06-29T13:11:02.719188200Z",
     "start_time": "2023-06-29T13:11:02.561554400Z"
    },
    "collapsed": false
   },
   "outputs": [],
   "source": [
    "filtered_data = np.load('./macroeconomic_data/filtered_data.npy', allow_pickle=True).item()\n",
    "\n",
    "data = []\n",
    "\n",
    "for date, data_frame in filtered_data.items():\n",
    "    flattened_data = pd.json_normalize(data_frame, sep=\".\")\n",
    "    flattened_data[\"10\"] = str(date[1])\n",
    "    data.append(flattened_data)\n",
    "\n",
    "data = pd.concat(data, ignore_index=True)\n",
    "\n",
    "X = data\n",
    "X = X.iloc[:-1, :]\n",
    "\n",
    "y = data.filter(regex='0.36', axis=1)  # '^0\\.'\n",
    "y = y.iloc[1:]\n",
    "y = y.values.ravel()\n",
    "\n",
    "random_state = np.random.RandomState()\n",
    "random_state_tuple = random_state.get_state()\n",
    "X_train, X_test, y_train, y_test = train_test_split(X, y, test_size=0.2, random_state=random_state)"
   ]
  },
  {
   "cell_type": "code",
   "execution_count": 38,
   "metadata": {
    "ExecuteTime": {
     "end_time": "2023-06-29T12:33:42.609179900Z",
     "start_time": "2023-06-29T12:33:42.605952700Z"
    },
    "collapsed": false
   },
   "outputs": [],
   "source": [
    "base_estimator = MLPRegressor()\n",
    "parameters = {'hidden_layer_sizes': [(200, 200, 200, 200, 200), (200,200,200,200), (100, 200, 200, 100), (200,200,200)],\n",
    "              \"activation\": ['logistic', 'tanh'],\n",
    "              \"solver\": ['sgd'], \"alpha\": [0.001, 0.0001, 0.00005],\n",
    "              \"learning_rate\": ['invscaling', 'adaptive'],\n",
    "              'max_iter': [100000], #'early_stopping': [True],\n",
    "              'tol': [1e-6], 'momentum' : [0.8, 0.85, 0.9, 0.95], 'nesterovs_momentum': [True, False]\n",
    "              }"
   ]
  },
  {
   "cell_type": "code",
   "execution_count": null,
   "metadata": {
    "ExecuteTime": {
     "end_time": "2023-06-29T12:59:11.928670600Z",
     "start_time": "2023-06-29T12:33:42.609179900Z"
    },
    "collapsed": false
   },
   "outputs": [],
   "source": [
    "\n",
    "mse_scorer = make_scorer(mean_squared_error, greater_is_better=False)\n",
    "\n",
    "clf = GridSearchCV(base_estimator, param_grid=parameters, cv=5, error_score='raise', n_jobs=-1, verbose=2, scoring=mse_scorer)\n",
    "clf.fit(X_train, y_train)\n",
    "\n",
    "best_estimator = clf.best_estimator_\n",
    "\n",
    "joblib.dump(best_estimator, './joblib/best_estimator.joblib', 3)\n",
    "joblib.dump(random_state_tuple, './joblib/split_random_state.joblib', 3)"
   ]
  },
  {
   "cell_type": "code",
   "execution_count": null,
   "metadata": {},
   "outputs": [],
   "source": [
    "print(clf.cv_results_)"
   ]
  },
  {
   "cell_type": "code",
   "execution_count": 21,
   "metadata": {},
   "outputs": [],
   "source": [
    "try:\n",
    "    best_estimator\n",
    "except:\n",
    "    # be sure that loaded files are not replaced by someone (potential risk)\n",
    "    best_estimator = joblib.load('./joblib/best_estimator.joblib')\n",
    "    random_state = np.random.RandomState()\n",
    "    random_state.set_state(joblib.load('./joblib/split_random_state.joblib'))\n",
    "    X_train, X_test, y_train, y_test = train_test_split(X, y, test_size=0.2, random_state=random_state)    "
   ]
  },
  {
   "cell_type": "code",
   "execution_count": 22,
   "metadata": {},
   "outputs": [],
   "source": [
    "print(best_estimator)"
   ]
  },
  {
   "cell_type": "code",
   "execution_count": 30,
   "metadata": {
    "ExecuteTime": {
     "end_time": "2023-06-29T13:13:55.033247200Z",
     "start_time": "2023-06-29T13:13:54.667181400Z"
    },
    "collapsed": false
   },
   "outputs": [],
   "source": [
    "y_pred = best_estimator.predict(X_test)\n",
    "\n",
    "y_pred_scaled = unscale_data_with_minmax(np.array(y_pred))\n",
    "y_test_scaled = unscale_data_with_minmax(np.array(y_test))\n",
    "\n",
    "# Print the predicted and actual values side by side\n",
    "print(\"Predicted\\t\\tActual\")\n",
    "for pred, actual in zip(y_pred_scaled, y_test_scaled):\n",
    "    print(f\"{pred}\\t\\t{actual}\")"
   ]
  },
  {
   "cell_type": "code",
   "execution_count": 31,
   "metadata": {},
   "outputs": [
    {
     "name": "stdout",
     "output_type": "stream",
     "text": [
      "Mean Squared Error: 0.05295912330211579\n",
      "R-squared Score: 0.560456037637686\n"
     ]
    }
   ],
   "source": [
    "mse = mean_squared_error(y_test_scaled, y_pred_scaled)\n",
    "r2 = r2_score(y_test_scaled, y_pred_scaled)\n",
    "print('Mean Squared Error:', mse)\n",
    "print('R-squared Score:', r2)"
   ]
  },
  {
   "cell_type": "code",
   "execution_count": null,
   "metadata": {},
   "outputs": [],
   "source": [
    "plt.scatter(y_pred_scaled, y_test_scaled)\n",
    "plt.plot([99.3, 101], [99.3, 101], c='r')\n",
    "plt.xlabel('prediced infaltion')\n",
    "plt.ylabel('actual inflation')\n",
    "plt.title(\"Test data\")\n",
    "plt.show()\n",
    "\n",
    "y_train_scaled = unscale_data_with_minmax(y_train)\n",
    "y_train_pred = unscale_data_with_minmax(best_estimator.predict(X_train))\n",
    "\n",
    "plt.plot([99.3, 101], [99.3, 101], c='r')\n",
    "plt.scatter(y_train_pred, y_train_scaled)\n",
    "plt.xlabel('prediced infaltion')\n",
    "plt.ylabel('actual inflation')\n",
    "plt.title(\"Train data\")\n",
    "plt.show()\n",
    "\n",
    "plt.figure()\n",
    "plt.plot(best_estimator.loss_curve_)\n",
    "plt.xlabel(\"iteration_no\")\n",
    "plt.ylabel(\"loss\")\n",
    "plt.show()"
   ]
  },
  {
   "cell_type": "code",
   "execution_count": 105,
   "metadata": {},
   "outputs": [],
   "source": [
    "filtered_data_recent = np.load('./macroeconomic_data/filtered_data_recent.npy', allow_pickle=True).item()\n",
    "normalized_data_recent = np.load('./macroeconomic_data/normalized_data_recent.npy', allow_pickle=True).item()\n",
    "\n",
    "data_recent = []\n",
    "\n",
    "for date, data_frame in filtered_data_recent.items():\n",
    "    flattened_data = pd.json_normalize(data_frame, sep=\".\")\n",
    "    flattened_data[\"10\"] = str(date[1])\n",
    "    data_recent.append(flattened_data)\n",
    "\n",
    "data_recent = pd.concat(data_recent, ignore_index=True)\n",
    "\n",
    "X_recent = data_recent\n",
    "\n",
    "y_recent = []\n",
    "for date, data_frame in normalized_data_recent.items():\n",
    "    if 0 in data_frame:\n",
    "        if 36 in data_frame[0]:\n",
    "            if data_frame[0][36] is not None:\n",
    "                y_recent.append(data_frame[0][36])\n",
    "\n",
    "if (len(y_recent) > len(X_recent)):\n",
    "    y_recent = y_recent[1:len(X_recent) + 1]\n",
    "else:\n",
    "    X_recent = X_recent.iloc[:-1, :]\n",
    "\n",
    "    y_recent = data_recent.filter(regex='0.36', axis=1)\n",
    "    y_recent = y_recent.iloc[1:]\n",
    "    y_recent = y_recent.values.ravel()\n",
    "\n",
    "\n",
    "y_recent_pred = best_estimator.predict(X_recent)\n",
    "\n",
    "y_recent_scaled = unscale_data_with_minmax(np.array(y_recent))\n",
    "y_recent_pred_scaled = unscale_data_with_minmax(y_recent_pred)"
   ]
  },
  {
   "cell_type": "code",
   "execution_count": null,
   "metadata": {},
   "outputs": [],
   "source": [
    "plt.scatter(y_recent_pred_scaled, y_recent_scaled)\n",
    "plt.plot([100.5, 102], [100.5, 102], c='r')\n",
    "plt.xlabel('prediced infaltion')\n",
    "plt.ylabel('actual inflation')\n",
    "plt.title(\"Recent data\")\n",
    "plt.show()"
   ]
  }
 ],
 "metadata": {
  "kernelspec": {
   "display_name": "Python 3",
   "language": "python",
   "name": "python3"
  },
  "language_info": {
   "codemirror_mode": {
    "name": "ipython",
    "version": 3
   },
   "file_extension": ".py",
   "mimetype": "text/x-python",
   "name": "python",
   "nbconvert_exporter": "python",
   "pygments_lexer": "ipython3",
   "version": "3.11.4"
  }
 },
 "nbformat": 4,
 "nbformat_minor": 0
}
